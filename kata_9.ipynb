{
 "cells": [
  {
   "cell_type": "code",
   "execution_count": 2,
   "metadata": {},
   "outputs": [
    {
     "name": "stdout",
     "output_type": "stream",
     "text": [
      " Fuel Report:\n",
      "    Average: 30.0%\n",
      "    Main tank: 40%\n",
      "    Secondary tank: 30%\n",
      "    Support tank: 20%\n"
     ]
    }
   ],
   "source": [
    "# Función para leer 3 tanques de combustible y muestre el promedio\n",
    "def tanks(tank_1, tank_2, tank_3):\n",
    "    average = (tank_1 + tank_2 + tank_3)/3\n",
    "    return f\"\"\" Fuel Report:\n",
    "    Average: {average}%\n",
    "    Main tank: {tank_1}%\n",
    "    Secondary tank: {tank_2}%\n",
    "    Support tank: {tank_3}%\"\"\"\n",
    "\n",
    "print(tanks(40,30,20))\n",
    "\n"
   ]
  },
  {
   "cell_type": "code",
   "execution_count": 7,
   "metadata": {},
   "outputs": [
    {
     "name": "stdout",
     "output_type": "stream",
     "text": [
      " Fuel Report:\n",
      "    Average: 33.333333333333336%\n",
      "    Main tank: 60%\n",
      "    Secondary tank: 30%\n",
      "    Support tank: 10%\n"
     ]
    }
   ],
   "source": [
    "# Función promedio \n",
    "def average(tanks_per):\n",
    "    total = sum(tanks_per)\n",
    "    total_tanks = len(tanks_per)\n",
    "    return total / total_tanks\n",
    "# Definimos la función\n",
    "def tanks(tank_1, tank_2, tank_3):\n",
    "    return f\"\"\" Fuel Report:\n",
    "    Average: {average([tank_1, tank_2, tank_3])}%\n",
    "    Main tank: {tank_1}%\n",
    "    Secondary tank: {tank_2}%\n",
    "    Support tank: {tank_3}%\"\"\"\n",
    "\n",
    "print(tanks(60,30,10))"
   ]
  }
 ],
 "metadata": {
  "interpreter": {
   "hash": "add686360d9a29f31ea3f315cc918c6ca0bf85eaa36b5ea9d0dd925e5b4db4ef"
  },
  "kernelspec": {
   "display_name": "Python 3.10.2 64-bit",
   "language": "python",
   "name": "python3"
  },
  "language_info": {
   "codemirror_mode": {
    "name": "ipython",
    "version": 3
   },
   "file_extension": ".py",
   "mimetype": "text/x-python",
   "name": "python",
   "nbconvert_exporter": "python",
   "pygments_lexer": "ipython3",
   "version": "3.10.2"
  },
  "orig_nbformat": 4
 },
 "nbformat": 4,
 "nbformat_minor": 2
}
