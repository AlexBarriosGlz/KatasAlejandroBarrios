{
 "cells": [
  {
   "cell_type": "code",
   "execution_count": 1,
   "metadata": {},
   "outputs": [
    {
     "name": "stdout",
     "output_type": "stream",
     "text": [
      "¡Alerta! ¡Un asteroide se acerca a velocidades peligrosas!\n"
     ]
    }
   ],
   "source": [
    "vel_ast = 49\n",
    "if vel_ast > 25:\n",
    "    print('¡Alerta! ¡Un asteroide se acerca a velocidades peligrosas!')\n",
    "else:\n",
    "    print('¡Sigue con tu día!')\n",
    "\n"
   ]
  },
  {
   "cell_type": "code",
   "execution_count": 2,
   "metadata": {},
   "outputs": [
    {
     "name": "stdout",
     "output_type": "stream",
     "text": [
      "¡No va tan rápido, nada que ver en el cielo!\n"
     ]
    }
   ],
   "source": [
    "vel_ast = 19\n",
    "if vel_ast > 20:\n",
    "    print('¡Ve el rayo de luz en el cielo!')\n",
    "elif vel_ast == 20:\n",
    "    print('¡Tuviste suerte! ¡Ve el rayo de luz en el cielo!')\n",
    "else:\n",
    "    print('¡No va tan rápido, nada que ver en el cielo!')"
   ]
  },
  {
   "cell_type": "code",
   "execution_count": 3,
   "metadata": {},
   "outputs": [
    {
     "name": "stdout",
     "output_type": "stream",
     "text": [
      "¡Ve el rayo de luz en el cielo!\n"
     ]
    }
   ],
   "source": [
    "diam_ast = 30\n",
    "velocidad_ast = 22\n",
    "if diam_ast >= 25 and velocidad_ast > 25:\n",
    "    print('¡Un asteroide muy grande viene a la tierra!')\n",
    "elif velocidad_ast >= 20:\n",
    "    print('¡Ve el rayo de luz en el cielo!')\n",
    "elif diam_ast < 25:\n",
    "    print('¡Tuvimos suerte, se desintegró el asteroide!')\n",
    "else:\n",
    "    print('¡Todo bien por aquí!')"
   ]
  }
 ],
 "metadata": {
  "interpreter": {
   "hash": "6ca97cc0de10110bc770b9c9f09c1e3599ba1ff12a9009470445444a4d2e2a58"
  },
  "kernelspec": {
   "display_name": "Python 3.10.2 64-bit (windows store)",
   "language": "python",
   "name": "python3"
  },
  "language_info": {
   "codemirror_mode": {
    "name": "ipython",
    "version": 3
   },
   "file_extension": ".py",
   "mimetype": "text/x-python",
   "name": "python",
   "nbconvert_exporter": "python",
   "pygments_lexer": "ipython3",
   "version": "3.10.2"
  },
  "orig_nbformat": 4
 },
 "nbformat": 4,
 "nbformat_minor": 2
}
