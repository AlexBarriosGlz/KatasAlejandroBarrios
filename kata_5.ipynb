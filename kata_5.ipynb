{
 "cells": [
  {
   "cell_type": "code",
   "execution_count": 5,
   "metadata": {},
   "outputs": [
    {
     "name": "stdout",
     "output_type": "stream",
     "text": [
      "628949330\n",
      "390577533\n"
     ]
    }
   ],
   "source": [
    "# Distancia entre planetas\n",
    "planet_1 = 149597870 #km\n",
    "planet_2 = 778547200 #km\n",
    "\n",
    "dist = abs(planet_1 - planet_2)\n",
    "print (dist)\n",
    "dist_mi = dist*.621\n",
    "print (int(dist_mi))"
   ]
  },
  {
   "cell_type": "code",
   "execution_count": 6,
   "metadata": {},
   "outputs": [
    {
     "name": "stdout",
     "output_type": "stream",
     "text": [
      "50300000\n",
      "31236300\n"
     ]
    }
   ],
   "source": [
    "# Distancia entre planetas\n",
    "planet_1 = input('Introduce los km al sol del planeta 1') #km\n",
    "planet_2 = input('Introduce los km al sol del planeta 2') #km #km\n",
    "planet_1_num = int(planet_1)\n",
    "planet_2_num = int(planet_2)\n",
    "\n",
    "dist = abs(planet_1_num - planet_2_num)\n",
    "print (dist)\n",
    "dist_mi = dist*.621\n",
    "print (int(dist_mi))"
   ]
  }
 ],
 "metadata": {
  "interpreter": {
   "hash": "add686360d9a29f31ea3f315cc918c6ca0bf85eaa36b5ea9d0dd925e5b4db4ef"
  },
  "kernelspec": {
   "display_name": "Python 3.10.2 64-bit",
   "language": "python",
   "name": "python3"
  },
  "language_info": {
   "codemirror_mode": {
    "name": "ipython",
    "version": 3
   },
   "file_extension": ".py",
   "mimetype": "text/x-python",
   "name": "python",
   "nbconvert_exporter": "python",
   "pygments_lexer": "ipython3",
   "version": "3.10.2"
  },
  "orig_nbformat": 4
 },
 "nbformat": 4,
 "nbformat_minor": 2
}
