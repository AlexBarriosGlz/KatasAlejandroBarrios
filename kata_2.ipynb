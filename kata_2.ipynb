{
 "cells": [
  {
   "cell_type": "code",
   "execution_count": null,
   "metadata": {},
   "outputs": [],
   "source": [
    "\n",
    "C:\\WINDOWS\\system32>cd C:\\Cursos\\Innovaccion\\Python\n",
    "\n",
    "C:\\Cursos\\Innovaccion\\Python>virtualenv venv\n",
    "created virtual environment CPython3.10.2.final.0-64 in 3570ms\n",
    "  creator CPython3Windows(dest=C:\\Cursos\\Innovaccion\\Python\\venv, clear=False, no_vcs_ignore=False, global=False)\n",
    "  seeder FromAppData(download=False, pip=bundle, setuptools=bundle, wheel=bundle, via=copy, app_data_dir=C:\\Users\\alexb\\AppData\\Local\\pypa\\virtualenv)\n",
    "    added seed packages: pip==22.0.3, setuptools==60.6.0, wheel==0.37.1\n",
    "  activators BashActivator,BatchActivator,FishActivator,NushellActivator,PowerShellActivator,PythonActivator\n",
    "\n",
    "C:\\Cursos\\Innovaccion\\Python>env?\\Scripts\\activate\n",
    "El nombre de archivo, el nombre de directorio o la sintaxis de la etiqueta del volumen no son correctos.\n",
    "C:\\Cursos\\Innovaccion\\Python>env\\Scripts\\activate\n",
    "El sistema no puede encontrar la ruta especificada.\n",
    "\n",
    "C:\\Cursos\\Innovaccion\\Python>python -m venv env\n",
    "\n",
    "C:\\Cursos\\Innovaccion\\Python>env\\Scripts\\activate\n",
    "\"\"C:\\WINDOWS\\System32\\chcp.com\"\" no se reconoce como un comando interno o externo,\n",
    "programa o archivo por lotes ejecutable.\n",
    "\n",
    "(env) C:\\Cursos\\Innovaccion\\Python>pip freeze\n",
    "\n",
    "(env) C:\\Cursos\\Innovaccion\\Python>pip install python-dateutil\n",
    "Collecting python-dateutil\n",
    "  Using cached python_dateutil-2.8.2-py2.py3-none-any.whl (247 kB)\n",
    "Collecting six>=1.5\n",
    "  Using cached six-1.16.0-py2.py3-none-any.whl (11 kB)\n",
    "Installing collected packages: six, python-dateutil\n",
    "Successfully installed python-dateutil-2.8.2 six-1.16.0\n",
    "WARNING: You are using pip version 21.2.4; however, version 22.0.3 is available.\n",
    "You should consider upgrading via the 'C:\\Cursos\\Innovaccion\\Python\\env\\Scripts\\python.exe -m pip install --upgrade pip' command.\n",
    "\n",
    "(env) C:\\Cursos\\Innovaccion\\Python>pip freeze\n",
    "python-dateutil==2.8.2\n",
    "six==1.16.0\n",
    "\n",
    "(env) C:\\Cursos\\Innovaccion\\Python>deactivate\n",
    "C:\\Cursos\\Innovaccion\\Python>"
   ]
  }
 ],
 "metadata": {
  "language_info": {
   "name": "python"
  },
  "orig_nbformat": 4
 },
 "nbformat": 4,
 "nbformat_minor": 2
}
