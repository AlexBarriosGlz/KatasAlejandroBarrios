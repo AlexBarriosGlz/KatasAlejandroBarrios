{
 "cells": [
  {
   "cell_type": "code",
   "execution_count": 12,
   "metadata": {},
   "outputs": [
    {
     "name": "stdout",
     "output_type": "stream",
     "text": [
      "There are 9 planets\n",
      "The last planet is  Pluto\n"
     ]
    }
   ],
   "source": [
    "planets = ['Mercury', 'Venus', 'Earth', 'Mars', 'Jupiter', 'Saturn', 'Uranus', 'Neptune']\n",
    "planets.append('Pluto')\n",
    "\n",
    "print('There are', len(planets), 'planets')\n",
    "print('The last planet is ', planets[-1])"
   ]
  },
  {
   "cell_type": "code",
   "execution_count": 13,
   "metadata": {},
   "outputs": [
    {
     "name": "stdout",
     "output_type": "stream",
     "text": [
      "This are the planets closer thanSaturn\n",
      "['Mercury', 'Venus', 'Earth', 'Mars', 'Jupiter']\n",
      "This are the planets further thanSaturn\n",
      "['Neptune']\n"
     ]
    }
   ],
   "source": [
    "# Lista de planetas\n",
    "planets = ['Mercury', 'Venus', 'Earth', 'Mars', 'Jupiter', 'Saturn', 'Neptune']\n",
    "\n",
    "inp_planet = input('Enter the name of a planet')\n",
    "\n",
    "#Encuentra el planeta\n",
    "find_inp = planets.index(inp_planet)\n",
    "\n",
    "#Planetas más alejandos del sol\n",
    "print('This are the planets closer than' + inp_planet)\n",
    "print(planets[0:find_inp])\n",
    "\n",
    "print('This are the planets further than' + inp_planet)\n",
    "print(planets[find_inp+1:])\n",
    "\n"
   ]
  }
 ],
 "metadata": {
  "interpreter": {
   "hash": "add686360d9a29f31ea3f315cc918c6ca0bf85eaa36b5ea9d0dd925e5b4db4ef"
  },
  "kernelspec": {
   "display_name": "Python 3.10.2 64-bit",
   "language": "python",
   "name": "python3"
  },
  "language_info": {
   "codemirror_mode": {
    "name": "ipython",
    "version": 3
   },
   "file_extension": ".py",
   "mimetype": "text/x-python",
   "name": "python",
   "nbconvert_exporter": "python",
   "pygments_lexer": "ipython3",
   "version": "3.10.2"
  },
  "orig_nbformat": 4
 },
 "nbformat": 4,
 "nbformat_minor": 2
}
