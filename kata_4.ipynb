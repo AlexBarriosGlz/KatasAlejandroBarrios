{
 "cells": [
  {
   "cell_type": "markdown",
   "metadata": {},
   "source": [
    "# Divide el texto"
   ]
  },
  {
   "cell_type": "code",
   "execution_count": 5,
   "metadata": {},
   "outputs": [
    {
     "data": {
      "text/plain": [
       "['Interesting facts about the Moon',\n",
       " \"The Moon is Earth's only satellite\",\n",
       " 'There are several interesting facts about the Moon and how it affects life here on Earth',\n",
       " '\\nOn average, the Moon moves 4cm away from the Earth every year',\n",
       " 'This yearly drift is not significant enough to cause immediate effects on Earth',\n",
       " 'The highest daylight temperature of the Moon is 127 C.']"
      ]
     },
     "execution_count": 5,
     "metadata": {},
     "output_type": "execute_result"
    }
   ],
   "source": [
    "text = \"\"\"Interesting facts about the Moon. The Moon is Earth's only satellite. There are several interesting facts about the Moon and how it affects life here on Earth. \n",
    "On average, the Moon moves 4cm away from the Earth every year. This yearly drift is not significant enough to cause immediate effects on Earth. The highest daylight temperature of the Moon is 127 C.\"\"\"\n",
    "\n",
    "parts = text.split('. ')\n",
    "parts"
   ]
  },
  {
   "cell_type": "markdown",
   "metadata": {},
   "source": [
    "# Keywords"
   ]
  },
  {
   "cell_type": "code",
   "execution_count": 6,
   "metadata": {},
   "outputs": [
    {
     "name": "stdout",
     "output_type": "stream",
     "text": [
      "\n",
      "On average, the Moon moves 4cm away from the Earth every year\n",
      "The highest daylight temperature of the Moon is 127 C.\n"
     ]
    }
   ],
   "source": [
    "keywords = ['average', 'temperature', 'distance']\n",
    "\n",
    "for item in parts:\n",
    "    for key_words in keywords:\n",
    "        if key_words in item:\n",
    "            print(item)\n",
    "            "
   ]
  },
  {
   "cell_type": "code",
   "execution_count": 7,
   "metadata": {},
   "outputs": [
    {
     "name": "stdout",
     "output_type": "stream",
     "text": [
      "\n",
      "On average, the Moon moves 4cm away from the Earth every year\n",
      "The highest daylight temperature of the Moon is 127 C.\n"
     ]
    }
   ],
   "source": [
    "for item in parts:\n",
    "    for key_words in keywords:\n",
    "        if key_words in item:\n",
    "            print(item.replace('Celsius', 'C'))\n",
    "            "
   ]
  },
  {
   "cell_type": "code",
   "execution_count": 14,
   "metadata": {},
   "outputs": [
    {
     "name": "stdout",
     "output_type": "stream",
     "text": [
      "Gravity Facts About Moon\n",
      "        --------------------------------------------------\n",
      "    'Planet Name'Earth\n",
      "    'Gravity on Moon: 1.6199999999999999 'm/s2'\n",
      "Gravity Facts About Mars\n",
      "        --------------------------------------------------\n",
      "    'Planet Name'Ganimedes\n",
      "    'Gravity on Mars: 1.4300000000000002 'm/s2'\n"
     ]
    }
   ],
   "source": [
    "# Datos \n",
    "name = \"Moon\"\n",
    "gravity = 0.00162 # in kms\n",
    "planet = \"Earth\"\n",
    "\n",
    "title = f'Gravity Facts about {name}'\n",
    "text = f\"\"\"{'-'*50}\n",
    "    'Planet Name'{planet}\n",
    "    'Gravity on {name}: {gravity*1000} 'm/s2'\"\"\"\n",
    "\n",
    "union = f\"\"\"{title.title()}\n",
    "        {text}\"\"\"\n",
    "\n",
    "print (union)\n",
    "\n",
    "# Datos 2\n",
    "name = \"Mars\"\n",
    "gravity = 0.00143 # in kms\n",
    "planet = \"Ganimedes\"\n",
    "\n",
    "title = f'Gravity Facts about {name}'\n",
    "text = f\"\"\"{'-'*50}\n",
    "    'Planet Name'{planet}\n",
    "    'Gravity on {name}: {gravity*1000} 'm/s2'\"\"\"\n",
    "\n",
    "union = f\"\"\"{title.title()}\n",
    "        {text}\"\"\"\n",
    "\n",
    "print (union)"
   ]
  },
  {
   "cell_type": "code",
   "execution_count": 12,
   "metadata": {},
   "outputs": [
    {
     "name": "stdout",
     "output_type": "stream",
     "text": [
      "Gravity Facts About Mars\n",
      "        --------------------------------------------------\n",
      "    'Planet Name'Ganimedes\n",
      "    'Gravity on Mars: 1.4300000000000002 'm/s2'\n"
     ]
    }
   ],
   "source": [
    "# Datos \n",
    "name = \"Mars\"\n",
    "gravity = 0.00143 # in kms\n",
    "planet = \"Ganimedes\"\n",
    "\n",
    "title = f'Gravity Facts about {name}'\n",
    "text = f\"\"\"{'-'*50}\n",
    "    'Planet Name'{planet}\n",
    "    'Gravity on {name}: {gravity*1000} 'm/s2'\"\"\"\n",
    "\n",
    "union = f\"\"\"{title.title()}\n",
    "        {text}\"\"\"\n",
    "\n",
    "print (union)"
   ]
  }
 ],
 "metadata": {
  "interpreter": {
   "hash": "6ca97cc0de10110bc770b9c9f09c1e3599ba1ff12a9009470445444a4d2e2a58"
  },
  "kernelspec": {
   "display_name": "Python 3.10.2 64-bit (windows store)",
   "language": "python",
   "name": "python3"
  },
  "language_info": {
   "codemirror_mode": {
    "name": "ipython",
    "version": 3
   },
   "file_extension": ".py",
   "mimetype": "text/x-python",
   "name": "python",
   "nbconvert_exporter": "python",
   "pygments_lexer": "ipython3",
   "version": "3.10.2"
  },
  "orig_nbformat": 4
 },
 "nbformat": 4,
 "nbformat_minor": 2
}
